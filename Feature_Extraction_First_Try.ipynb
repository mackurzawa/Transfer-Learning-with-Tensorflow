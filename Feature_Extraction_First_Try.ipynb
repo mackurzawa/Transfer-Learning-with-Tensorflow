{
  "nbformat": 4,
  "nbformat_minor": 0,
  "metadata": {
    "colab": {
      "name": "04-transfer_learning_in_tensorflow_part_1_featur_extraction.ipynb",
      "provenance": [],
      "collapsed_sections": [],
      "toc_visible": true
    },
    "kernelspec": {
      "name": "python3",
      "display_name": "Python 3"
    },
    "language_info": {
      "name": "python"
    },
    "gpuClass": "standard",
    "accelerator": "GPU"
  },
  "cells": [
    {
      "cell_type": "markdown",
      "source": [
        "# Transfer Learning With Tensorflow Part 1: Feature Extraction"
      ],
      "metadata": {
        "id": "-x2Bly4WySDK"
      }
    },
    {
      "cell_type": "code",
      "source": [
        "!nvidia-smi"
      ],
      "metadata": {
        "colab": {
          "base_uri": "https://localhost:8080/"
        },
        "id": "k312xH160Gq-",
        "outputId": "0cebb0d1-abd9-46b4-9d67-4336904e1083"
      },
      "execution_count": null,
      "outputs": [
        {
          "output_type": "stream",
          "name": "stdout",
          "text": [
            "Wed Jul 20 20:51:04 2022       \n",
            "+-----------------------------------------------------------------------------+\n",
            "| NVIDIA-SMI 460.32.03    Driver Version: 460.32.03    CUDA Version: 11.2     |\n",
            "|-------------------------------+----------------------+----------------------+\n",
            "| GPU  Name        Persistence-M| Bus-Id        Disp.A | Volatile Uncorr. ECC |\n",
            "| Fan  Temp  Perf  Pwr:Usage/Cap|         Memory-Usage | GPU-Util  Compute M. |\n",
            "|                               |                      |               MIG M. |\n",
            "|===============================+======================+======================|\n",
            "|   0  Tesla T4            Off  | 00000000:00:04.0 Off |                    0 |\n",
            "| N/A   56C    P8    10W /  70W |      0MiB / 15109MiB |      0%      Default |\n",
            "|                               |                      |                  N/A |\n",
            "+-------------------------------+----------------------+----------------------+\n",
            "                                                                               \n",
            "+-----------------------------------------------------------------------------+\n",
            "| Processes:                                                                  |\n",
            "|  GPU   GI   CI        PID   Type   Process name                  GPU Memory |\n",
            "|        ID   ID                                                   Usage      |\n",
            "|=============================================================================|\n",
            "|  No running processes found                                                 |\n",
            "+-----------------------------------------------------------------------------+\n"
          ]
        }
      ]
    },
    {
      "cell_type": "markdown",
      "source": [
        "## Download data"
      ],
      "metadata": {
        "id": "d2d8RdMHyqBv"
      }
    },
    {
      "cell_type": "code",
      "source": [
        "import zipfile\n",
        "\n",
        "!wget https://storage.googleapis.com/ztm_tf_course/food_vision/10_food_classes_10_percent.zip\n",
        "\n",
        "zip_ref = zipfile.ZipFile('10_food_classes_10_percent.zip')\n",
        "zip_ref.extractall()\n",
        "zip_ref.close()"
      ],
      "metadata": {
        "colab": {
          "base_uri": "https://localhost:8080/"
        },
        "id": "p1vqy8ri0OU2",
        "outputId": "d5b5e9d0-bf1f-435d-ee45-09c5372e4247"
      },
      "execution_count": null,
      "outputs": [
        {
          "output_type": "stream",
          "name": "stdout",
          "text": [
            "--2022-07-20 20:51:05--  https://storage.googleapis.com/ztm_tf_course/food_vision/10_food_classes_10_percent.zip\n",
            "Resolving storage.googleapis.com (storage.googleapis.com)... 142.250.188.48, 142.251.45.16, 172.217.0.48, ...\n",
            "Connecting to storage.googleapis.com (storage.googleapis.com)|142.250.188.48|:443... connected.\n",
            "HTTP request sent, awaiting response... 200 OK\n",
            "Length: 168546183 (161M) [application/zip]\n",
            "Saving to: ‘10_food_classes_10_percent.zip’\n",
            "\n",
            "10_food_classes_10_ 100%[===================>] 160.74M   238MB/s    in 0.7s    \n",
            "\n",
            "2022-07-20 20:51:05 (238 MB/s) - ‘10_food_classes_10_percent.zip’ saved [168546183/168546183]\n",
            "\n"
          ]
        }
      ]
    },
    {
      "cell_type": "code",
      "source": [
        "import os\n",
        "\n",
        "for dir_path, dir, files in os.walk('10_food_classes_10_percent'):\n",
        "  print(f'There are {len(dir)} directories and {len(files)} in {dir_path}')"
      ],
      "metadata": {
        "colab": {
          "base_uri": "https://localhost:8080/"
        },
        "id": "DfGUMErB0tKv",
        "outputId": "6e2be258-4bb8-4829-cc5f-dbfcec5f8e55"
      },
      "execution_count": null,
      "outputs": [
        {
          "output_type": "stream",
          "name": "stdout",
          "text": [
            "There are 2 directories and 0 in 10_food_classes_10_percent\n",
            "There are 10 directories and 0 in 10_food_classes_10_percent/train\n",
            "There are 0 directories and 75 in 10_food_classes_10_percent/train/ramen\n",
            "There are 0 directories and 75 in 10_food_classes_10_percent/train/hamburger\n",
            "There are 0 directories and 75 in 10_food_classes_10_percent/train/fried_rice\n",
            "There are 0 directories and 75 in 10_food_classes_10_percent/train/sushi\n",
            "There are 0 directories and 75 in 10_food_classes_10_percent/train/steak\n",
            "There are 0 directories and 75 in 10_food_classes_10_percent/train/ice_cream\n",
            "There are 0 directories and 75 in 10_food_classes_10_percent/train/chicken_wings\n",
            "There are 0 directories and 75 in 10_food_classes_10_percent/train/chicken_curry\n",
            "There are 0 directories and 75 in 10_food_classes_10_percent/train/grilled_salmon\n",
            "There are 0 directories and 75 in 10_food_classes_10_percent/train/pizza\n",
            "There are 10 directories and 0 in 10_food_classes_10_percent/test\n",
            "There are 0 directories and 250 in 10_food_classes_10_percent/test/ramen\n",
            "There are 0 directories and 250 in 10_food_classes_10_percent/test/hamburger\n",
            "There are 0 directories and 250 in 10_food_classes_10_percent/test/fried_rice\n",
            "There are 0 directories and 250 in 10_food_classes_10_percent/test/sushi\n",
            "There are 0 directories and 250 in 10_food_classes_10_percent/test/steak\n",
            "There are 0 directories and 250 in 10_food_classes_10_percent/test/ice_cream\n",
            "There are 0 directories and 250 in 10_food_classes_10_percent/test/chicken_wings\n",
            "There are 0 directories and 250 in 10_food_classes_10_percent/test/chicken_curry\n",
            "There are 0 directories and 250 in 10_food_classes_10_percent/test/grilled_salmon\n",
            "There are 0 directories and 250 in 10_food_classes_10_percent/test/pizza\n"
          ]
        }
      ]
    },
    {
      "cell_type": "markdown",
      "source": [
        "## Preparing Data"
      ],
      "metadata": {
        "id": "soRdYvPp1Yb-"
      }
    },
    {
      "cell_type": "code",
      "source": [
        "from tensorflow.keras.preprocessing.image import ImageDataGenerator"
      ],
      "metadata": {
        "id": "g8MjIumL2y9o"
      },
      "execution_count": null,
      "outputs": []
    },
    {
      "cell_type": "code",
      "source": [
        "train_dir = '10_food_classes_10_percent/train'\n",
        "test_dir = '10_food_classes_10_percent/test'\n",
        "\n",
        "train_datagen = ImageDataGenerator(rescale=1/255.)\n",
        "test_datagen = ImageDataGenerator(rescale=1/255.)\n",
        "\n",
        "IMAGE_SHAPE = (224, 224)\n",
        "\n",
        "train_data_10_percent = train_datagen.flow_from_directory(train_dir,\n",
        "                                               target_size=IMAGE_SHAPE)\n",
        "\n",
        "test_data_10_percent = test_datagen.flow_from_directory(test_dir,\n",
        "                                               target_size=IMAGE_SHAPE)"
      ],
      "metadata": {
        "colab": {
          "base_uri": "https://localhost:8080/"
        },
        "id": "lZ0nZ_0W25KG",
        "outputId": "dd60cc40-9083-430d-f16b-55eab9659ea7"
      },
      "execution_count": null,
      "outputs": [
        {
          "output_type": "stream",
          "name": "stdout",
          "text": [
            "Found 750 images belonging to 10 classes.\n",
            "Found 2500 images belonging to 10 classes.\n"
          ]
        }
      ]
    },
    {
      "cell_type": "markdown",
      "source": [
        "## Setting up callbacks"
      ],
      "metadata": {
        "id": "aLYF6ylj4le3"
      }
    },
    {
      "cell_type": "code",
      "source": [
        "import datetime\n",
        "\n",
        "def create_tensorboard_callback(dir_name, experiment_name):\n",
        "  log_dir = dir_name + '/' + experiment_name + '/' + datetime.datetime.now().strftime('%Y%m%d-%H%M%S')\n",
        "  tensorboard_callback = tf.keras.callbacks.TensorBoard(log_dir=log_dir)\n",
        "  print(f\"Saving TensorBoard log files to: {log_dir}\")\n",
        "  return tensorboard_callback"
      ],
      "metadata": {
        "id": "34qf9EkfBl7N"
      },
      "execution_count": null,
      "outputs": []
    },
    {
      "cell_type": "markdown",
      "source": [
        "## Creating models using Tensorflow hub"
      ],
      "metadata": {
        "id": "TrojiuN3DxvH"
      }
    },
    {
      "cell_type": "markdown",
      "source": [
        "We will try with \n",
        "\n",
        "* efficientnet/b0/feature-vector \n",
        "https://tfhub.dev/tensorflow/efficientnet/b0/feature-vector/1\n",
        "\n",
        "\n",
        "* imagenet/resnet_v2_50/feature_vector\n",
        "https://tfhub.dev/google/imagenet/resnet_v2_50/feature_vector/5\n",
        "\n",
        "for comparison :)"
      ],
      "metadata": {
        "id": "CpMIfDgPD2EG"
      }
    },
    {
      "cell_type": "code",
      "source": [
        "efficientnet_url = 'https://tfhub.dev/tensorflow/efficientnet/b0/feature-vector/1'\n",
        "\n",
        "resnet_url = 'https://tfhub.dev/google/imagenet/resnet_v2_50/feature_vector/5'"
      ],
      "metadata": {
        "id": "Y4sSkZ0bJp_N"
      },
      "execution_count": null,
      "outputs": []
    },
    {
      "cell_type": "code",
      "source": [
        "import tensorflow as tf\n",
        "import tensorflow_hub as hub"
      ],
      "metadata": {
        "id": "CYCyltBVaFnp"
      },
      "execution_count": null,
      "outputs": []
    },
    {
      "cell_type": "code",
      "source": [
        "def create_model_from_url(model_url, num_classes=10):\n",
        "  # Download pretrained model\n",
        "  feature_extraction_layer = hub.KerasLayer(model_url,\n",
        "                                         trainable=False,\n",
        "                                         name='feature_extraction_layer',\n",
        "                                         input_shape=IMAGE_SHAPE + (3,))\n",
        "  \n",
        "  # Create model\n",
        "  model = tf.keras.Sequential([\n",
        "    feature_extraction_layer,\n",
        "    tf.keras.layers.Dense(num_classes, activation='softmax', name='output_layer')\n",
        "  ])\n",
        "\n",
        "  return model"
      ],
      "metadata": {
        "id": "q6p4QY6gaO3Q"
      },
      "execution_count": null,
      "outputs": []
    },
    {
      "cell_type": "markdown",
      "source": [
        "## Creating and testing ResNet Tensorflow Hub Feature Extraction model"
      ],
      "metadata": {
        "id": "KuKfsLdybzr3"
      }
    },
    {
      "cell_type": "code",
      "source": [
        "resnet_model = create_model_from_url(resnet_url,\n",
        "                                     num_classes=train_data_10_percent.num_classes)"
      ],
      "metadata": {
        "id": "9bac2a6GcH54"
      },
      "execution_count": null,
      "outputs": []
    },
    {
      "cell_type": "code",
      "source": [
        "resnet_model.summary()"
      ],
      "metadata": {
        "colab": {
          "base_uri": "https://localhost:8080/"
        },
        "id": "-Xtpj2udcfnN",
        "outputId": "a02d605b-91f4-4890-a978-f9b78137ac9c"
      },
      "execution_count": null,
      "outputs": [
        {
          "output_type": "stream",
          "name": "stdout",
          "text": [
            "Model: \"sequential_9\"\n",
            "_________________________________________________________________\n",
            " Layer (type)                Output Shape              Param #   \n",
            "=================================================================\n",
            " feature_extraction_layer (K  (None, 2048)             23564800  \n",
            " erasLayer)                                                      \n",
            "                                                                 \n",
            " output_layer (Dense)        (None, 10)                20490     \n",
            "                                                                 \n",
            "=================================================================\n",
            "Total params: 23,585,290\n",
            "Trainable params: 20,490\n",
            "Non-trainable params: 23,564,800\n",
            "_________________________________________________________________\n"
          ]
        }
      ]
    },
    {
      "cell_type": "code",
      "source": [
        "# Compile\n",
        "resnet_model.compile(loss='categorical_crossentropy',\n",
        "                     optimizer='adam',\n",
        "                     metrics=['accuracy'])"
      ],
      "metadata": {
        "id": "X9cieEIkc7fG"
      },
      "execution_count": null,
      "outputs": []
    },
    {
      "cell_type": "code",
      "source": [
        "resnet_history = resnet_model.fit(train_data_10_percent,\n",
        "                                  epochs=5,\n",
        "                                  steps_per_epoch=len(train_data_10_percent),\n",
        "                                  validation_data=test_data_10_percent,\n",
        "                                  validation_steps=len(test_data_10_percent),\n",
        "                                  callbacks=[create_tensorboard_callback(dir_name='Tensorflow_hub',\n",
        "                                                                        experiment_name='resnet50v2')]\n",
        "                                  )"
      ],
      "metadata": {
        "colab": {
          "base_uri": "https://localhost:8080/"
        },
        "id": "TPgsecNddRTV",
        "outputId": "828ec623-9935-4b47-a610-467694ae429a"
      },
      "execution_count": null,
      "outputs": [
        {
          "output_type": "stream",
          "name": "stdout",
          "text": [
            "Saving TensorBoard log files to: Tensorflow_hub/resnet50v2/20220720-214712\n",
            "Epoch 1/5\n",
            "24/24 [==============================] - 20s 719ms/step - loss: 2.0296 - accuracy: 0.3213 - val_loss: 1.2490 - val_accuracy: 0.6156\n",
            "Epoch 2/5\n",
            "24/24 [==============================] - 16s 671ms/step - loss: 0.9229 - accuracy: 0.7320 - val_loss: 0.8570 - val_accuracy: 0.7376\n",
            "Epoch 3/5\n",
            "24/24 [==============================] - 16s 670ms/step - loss: 0.6276 - accuracy: 0.8280 - val_loss: 0.7677 - val_accuracy: 0.7480\n",
            "Epoch 4/5\n",
            "24/24 [==============================] - 16s 669ms/step - loss: 0.4850 - accuracy: 0.8733 - val_loss: 0.7183 - val_accuracy: 0.7712\n",
            "Epoch 5/5\n",
            "24/24 [==============================] - 16s 674ms/step - loss: 0.3899 - accuracy: 0.9173 - val_loss: 0.6793 - val_accuracy: 0.7764\n"
          ]
        }
      ]
    },
    {
      "cell_type": "code",
      "source": [
        "import matplotlib.pyplot as plt"
      ],
      "metadata": {
        "id": "OKkb8XoAgMFc"
      },
      "execution_count": null,
      "outputs": []
    },
    {
      "cell_type": "code",
      "source": [
        "def plot_loss_curves(history):\n",
        "  loss = history.history['loss']\n",
        "  val_loss = history.history['val_loss']\n",
        "\n",
        "  accuracy = history.history['accuracy']\n",
        "  val_accuracy = history.history['val_accuracy']\n",
        "\n",
        "  plt.figure(figsize=(15, 10))\n",
        "\n",
        "  plt.subplot(1, 2, 1)\n",
        "  plt.plot(loss, label='loss')\n",
        "  plt.plot(val_loss, label='val_loss')\n",
        "  plt.title('Loss')\n",
        "  plt.xlabel('Epochs')\n",
        "  plt.legend()\n",
        "\n",
        "  plt.subplot(1, 2, 2)\n",
        "  plt.plot(accuracy, label='accuracy')\n",
        "  plt.plot(val_accuracy, label='val_accuracy')\n",
        "  plt.title('Accuracy')\n",
        "  plt.xlabel('Epochs')\n",
        "  plt.legend()"
      ],
      "metadata": {
        "id": "MpEi7qJ-dl8e"
      },
      "execution_count": null,
      "outputs": []
    },
    {
      "cell_type": "code",
      "source": [
        "plot_loss_curves(resnet_history)"
      ],
      "metadata": {
        "colab": {
          "base_uri": "https://localhost:8080/",
          "height": 604
        },
        "id": "i-XxOryvgiN8",
        "outputId": "4acfc5a3-20f1-4961-f668-cd5e625dac0b"
      },
      "execution_count": null,
      "outputs": [
        {
          "output_type": "display_data",
          "data": {
            "text/plain": [
              "<Figure size 1080x720 with 2 Axes>"
            ],
            "image/png": "[encoded data removed]"
          },
          "metadata": {
            "needs_background": "light"
          }
        }
      ]
    },
    {
      "cell_type": "markdown",
      "source": [
        "## Creating and testing EfficientNetB0 Tensorflow Hub Feature Extraction model"
      ],
      "metadata": {
        "id": "-N2C5PYyhbVz"
      }
    },
    {
      "cell_type": "code",
      "source": [
        "efficientnet_model = create_model_from_url(efficientnet_url,\n",
        "                                           train_data_10_percent.num_classes)"
      ],
      "metadata": {
        "id": "uJVHiJnWhxY4"
      },
      "execution_count": null,
      "outputs": []
    },
    {
      "cell_type": "code",
      "source": [
        "efficientnet_model.summary()"
      ],
      "metadata": {
        "colab": {
          "base_uri": "https://localhost:8080/"
        },
        "id": "wNgWVqhYkMJZ",
        "outputId": "9486d4a0-8676-4e49-cb71-c10a8359df8d"
      },
      "execution_count": null,
      "outputs": [
        {
          "output_type": "stream",
          "name": "stdout",
          "text": [
            "Model: \"sequential_11\"\n",
            "_________________________________________________________________\n",
            " Layer (type)                Output Shape              Param #   \n",
            "=================================================================\n",
            " feature_extraction_layer (K  (None, 1280)             4049564   \n",
            " erasLayer)                                                      \n",
            "                                                                 \n",
            " output_layer (Dense)        (None, 10)                12810     \n",
            "                                                                 \n",
            "=================================================================\n",
            "Total params: 4,062,374\n",
            "Trainable params: 12,810\n",
            "Non-trainable params: 4,049,564\n",
            "_________________________________________________________________\n"
          ]
        }
      ]
    },
    {
      "cell_type": "code",
      "source": [
        "efficientnet_model.compile(loss='categorical_crossentropy',\n",
        "                           optimizer='adam',\n",
        "                           metrics=['accuracy'])"
      ],
      "metadata": {
        "id": "Rg_vQSv6iHPY"
      },
      "execution_count": null,
      "outputs": []
    },
    {
      "cell_type": "code",
      "source": [
        "efficientnet_history = efficientnet_model.fit(train_data_10_percent,\n",
        "                                              epochs=5,\n",
        "                                              steps_per_epoch=len(train_data_10_percent),\n",
        "                                              validation_data=test_data_10_percent,\n",
        "                                              validation_steps=len(test_data_10_percent),\n",
        "                                              callbacks=[create_tensorboard_callback(dir_name='Tensorflow_hub',\n",
        "                                                                                      experiment_name='efficientnetb0')])"
      ],
      "metadata": {
        "colab": {
          "base_uri": "https://localhost:8080/"
        },
        "id": "TYnZNu8YiWln",
        "outputId": "6474a740-7b71-4b8a-a315-03661c2bc79b"
      },
      "execution_count": null,
      "outputs": [
        {
          "output_type": "stream",
          "name": "stdout",
          "text": [
            "Saving TensorBoard log files to: Tensorflow_hub/efficientnetb0/20220720-215206\n",
            "Epoch 1/5\n",
            "24/24 [==============================] - 25s 680ms/step - loss: 1.8883 - accuracy: 0.3947 - val_loss: 1.3103 - val_accuracy: 0.7176\n",
            "Epoch 2/5\n",
            "24/24 [==============================] - 15s 644ms/step - loss: 1.0676 - accuracy: 0.7840 - val_loss: 0.8727 - val_accuracy: 0.8192\n",
            "Epoch 3/5\n",
            "24/24 [==============================] - 15s 641ms/step - loss: 0.7616 - accuracy: 0.8413 - val_loss: 0.6985 - val_accuracy: 0.8440\n",
            "Epoch 4/5\n",
            "24/24 [==============================] - 15s 641ms/step - loss: 0.6118 - accuracy: 0.8720 - val_loss: 0.6133 - val_accuracy: 0.8548\n",
            "Epoch 5/5\n",
            "24/24 [==============================] - 15s 637ms/step - loss: 0.5190 - accuracy: 0.8867 - val_loss: 0.5583 - val_accuracy: 0.8608\n"
          ]
        }
      ]
    },
    {
      "cell_type": "code",
      "source": [
        "plot_loss_curves(efficientnet_history)"
      ],
      "metadata": {
        "colab": {
          "base_uri": "https://localhost:8080/",
          "height": 608
        },
        "id": "UtNJwOKNi_4K",
        "outputId": "24a6a243-e8f8-4b86-e394-6c44958bfe87"
      },
      "execution_count": null,
      "outputs": [
        {
          "output_type": "display_data",
          "data": {
            "text/plain": [
              "<Figure size 1080x720 with 2 Axes>"
            ],
            "image/png": "[encoded data removed]"
          },
          "metadata": {
            "needs_background": "light"
          }
        }
      ]
    },
    {
      "cell_type": "markdown",
      "source": [
        "## Comparing models using TensorBoard"
      ],
      "metadata": {
        "id": "HmT1hm-6jab5"
      }
    },
    {
      "cell_type": "code",
      "source": [
        "!tensorboard dev upload --logdir ./Tensorflow_hub/ --name \"EfficientNetB0 vs. ResNet50v2\" \\\n",
        "                        --description 'Comparing two models on the same data (that is actually 10% of our all data)' \\\n",
        "                        --one_shot"
      ],
      "metadata": {
        "id": "u944xmmBn6wm"
      },
      "execution_count": null,
      "outputs": []
    },
    {
      "cell_type": "markdown",
      "source": [
        "TensorBoard experiments are uploaded publically here:\n",
        "* https://tensorboard.dev/experiment/w0gGSlNySWia3I24IlnvDg/"
      ],
      "metadata": {
        "id": "KMKsphzNobgs"
      }
    },
    {
      "cell_type": "markdown",
      "source": [
        "As we can see in the link, EfficientNet is crushing ResNet"
      ],
      "metadata": {
        "id": "3w3nO9qtpzDM"
      }
    }
  ]
}